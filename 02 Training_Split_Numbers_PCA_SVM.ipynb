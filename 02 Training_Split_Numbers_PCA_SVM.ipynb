{
 "cells": [
  {
   "cell_type": "markdown",
   "metadata": {},
   "source": [
    "<h1>Machine Learning Internship | Navia Life Care</h1>\n",
    "\n",
    "Name: Uma T V\n",
    "\n",
    "Email: uma.tv1699@gmail.com\n",
    "\n",
    "Roll No: ME17B170\n",
    "\n",
    "Institute: Indian Institute of Technology Madras"
   ]
  },
  {
   "cell_type": "markdown",
   "metadata": {},
   "source": [
    "<h2>Part 2 out of 3</h2>\n",
    "\n",
    "<h3> 02 Training_Split_Numbers_PCA_SVM </h3>\n",
    "<p style=\"color:blue\"> This program inputs the split processed individual numbers information (output of program 1) and uses that to learn and predict numbers from split number images</p>"
   ]
  },
  {
   "cell_type": "code",
   "execution_count": 1,
   "metadata": {},
   "outputs": [],
   "source": [
    "# Importing Libraries\n",
    "\n",
    "import numpy as np\n",
    "import pandas as pd\n",
    "import sklearn \n",
    "import statsmodels.api as sm\n",
    "from sklearn.cluster import k_means\n",
    "import warnings\n",
    "warnings.filterwarnings('ignore')\n",
    "import matplotlib.pyplot as plt\n",
    "import seaborn as sns\n",
    "from sklearn.preprocessing import StandardScaler\n",
    "from sklearn.decomposition import PCA\n",
    "from sklearn.decomposition import IncrementalPCA\n",
    "from sklearn.svm import SVC\n",
    "from sklearn.model_selection import KFold\n",
    "from sklearn.model_selection import GridSearchCV\n",
    "from sklearn.pipeline import Pipeline\n",
    "from sklearn.metrics import accuracy_score"
   ]
  },
  {
   "cell_type": "code",
   "execution_count": 2,
   "metadata": {},
   "outputs": [],
   "source": [
    "# Reading the split and processed individual numbers pixel information\n",
    "\n",
    "train=pd.read_csv('split_train.csv')"
   ]
  },
  {
   "cell_type": "code",
   "execution_count": 3,
   "metadata": {},
   "outputs": [],
   "source": [
    "# Seprating into pixel values (features) and labels\n",
    "\n",
    "y_train=train['120']\n",
    "x_train=train.drop('120',axis=1)"
   ]
  },
  {
   "cell_type": "markdown",
   "metadata": {},
   "source": [
    "<p style=\"color:blue\">We now use PCA to identify the most useful components from the features to identify the label of the numbers</p>"
   ]
  },
  {
   "cell_type": "code",
   "execution_count": 4,
   "metadata": {},
   "outputs": [],
   "source": [
    "# Implementing PCA to determine the required number of components\n",
    "\n",
    "pca=PCA(random_state=42)\n",
    "pca.fit_transform(x_train,y_train)\n",
    "cumulative=np.cumsum(pca.explained_variance_ratio_)"
   ]
  },
  {
   "cell_type": "code",
   "execution_count": 5,
   "metadata": {},
   "outputs": [
    {
     "data": {
      "text/plain": [
       "array([0.86481392, 0.90725803, 0.94729816, 0.96748124, 0.9825606 ,\n",
       "       0.99233772, 0.9995405 , 0.99970831, 0.99979805, 0.99987525,\n",
       "       0.99992838, 0.99997462, 0.99999974, 0.99999999, 1.        ,\n",
       "       1.        , 1.        , 1.        , 1.        , 1.        ,\n",
       "       1.        , 1.        , 1.        , 1.        , 1.        ,\n",
       "       1.        , 1.        , 1.        , 1.        , 1.        ,\n",
       "       1.        , 1.        , 1.        , 1.        , 1.        ,\n",
       "       1.        , 1.        , 1.        , 1.        , 1.        ,\n",
       "       1.        , 1.        , 1.        , 1.        , 1.        ,\n",
       "       1.        , 1.        , 1.        , 1.        , 1.        ,\n",
       "       1.        , 1.        , 1.        , 1.        , 1.        ,\n",
       "       1.        , 1.        , 1.        , 1.        , 1.        ,\n",
       "       1.        , 1.        , 1.        , 1.        , 1.        ,\n",
       "       1.        , 1.        , 1.        , 1.        , 1.        ,\n",
       "       1.        , 1.        , 1.        , 1.        , 1.        ,\n",
       "       1.        , 1.        , 1.        , 1.        , 1.        ,\n",
       "       1.        , 1.        , 1.        , 1.        , 1.        ,\n",
       "       1.        , 1.        , 1.        , 1.        , 1.        ,\n",
       "       1.        , 1.        , 1.        , 1.        , 1.        ,\n",
       "       1.        , 1.        , 1.        , 1.        , 1.        ,\n",
       "       1.        , 1.        , 1.        , 1.        , 1.        ,\n",
       "       1.        , 1.        , 1.        , 1.        , 1.        ,\n",
       "       1.        , 1.        , 1.        , 1.        , 1.        ,\n",
       "       1.        , 1.        , 1.        , 1.        , 1.        ])"
      ]
     },
     "execution_count": 5,
     "metadata": {},
     "output_type": "execute_result"
    }
   ],
   "source": [
    "# visualizing the cumulative sum of variance ratios to identify the number of principal components to be used\n",
    "\n",
    "cumulative"
   ]
  },
  {
   "cell_type": "code",
   "execution_count": 6,
   "metadata": {},
   "outputs": [
    {
     "data": {
      "image/png": "[encoded data removed]",
      "text/plain": [
       "<Figure size 720x432 with 1 Axes>"
      ]
     },
     "metadata": {
      "needs_background": "light"
     },
     "output_type": "display_data"
    }
   ],
   "source": [
    "# Visualizing the relevant number of features\n",
    "\n",
    "fig = plt.figure(figsize=[10,6])\n",
    "plt.vlines(x=10, ymax=1, ymin=0, colors=\"g\", linestyles=\"--\")\n",
    "plt.hlines(y=0.91, xmax=800, xmin=0, colors=\"purple\", linestyles=\"--\")\n",
    "sns.lineplot(y=cumulative,x=range(len(cumulative)))\n",
    "plt.yticks(np.arange(0, 1.1, 0.1))\n",
    "plt.show()"
   ]
  },
  {
   "cell_type": "code",
   "execution_count": 7,
   "metadata": {},
   "outputs": [],
   "source": [
    "# Based on the above graph, 14 components are taken\n",
    "\n",
    "pca=IncrementalPCA(n_components=10)\n",
    "x_train_pca=pca.fit_transform(x_train)"
   ]
  },
  {
   "cell_type": "code",
   "execution_count": 8,
   "metadata": {},
   "outputs": [],
   "source": [
    "x_train_final=pd.DataFrame(x_train_pca)"
   ]
  },
  {
   "cell_type": "code",
   "execution_count": 9,
   "metadata": {},
   "outputs": [
    {
     "data": {
      "image/png": "[encoded data removed]",
      "text/plain": [
       "<Figure size 432x288 with 5 Axes>"
      ]
     },
     "metadata": {
      "needs_background": "light"
     },
     "output_type": "display_data"
    }
   ],
   "source": [
    "# Visualining the data with label 5 \n",
    "\n",
    "img_five = train.loc[train['120']==5].head(5).index.values\n",
    "\n",
    "for i in range(0,5):\n",
    "    one = train.iloc[img_five[i], :-1]\n",
    "    one = one.values.reshape((10,12))\n",
    "    plt.subplot(1,5,i+1)\n",
    "    plt.imshow(one)"
   ]
  },
  {
   "cell_type": "code",
   "execution_count": 10,
   "metadata": {},
   "outputs": [],
   "source": [
    "# Using a 3-fold approach\n",
    "\n",
    "folds=KFold(n_splits=3,shuffle=True,random_state=42)\n",
    "params = {\"C\": [1, 5, 10, 100]}\n",
    "\n",
    "# Using a support vector model\n",
    "\n",
    "model = SVC()\n",
    "\n",
    "# Grid search scheme is used with 3 folds, using a Support Vector Model to determine best parameter\n",
    "# Train Accuracy is used as the measurement metric\n",
    "\n",
    "model_cv = GridSearchCV(estimator = model, param_grid = params, scoring= 'accuracy', \n",
    "                        cv = folds, verbose = 1, return_train_score=True)      "
   ]
  },
  {
   "cell_type": "code",
   "execution_count": 11,
   "metadata": {},
   "outputs": [
    {
     "name": "stdout",
     "output_type": "stream",
     "text": [
      "Fitting 3 folds for each of 4 candidates, totalling 12 fits\n"
     ]
    },
    {
     "name": "stderr",
     "output_type": "stream",
     "text": [
      "[Parallel(n_jobs=1)]: Using backend SequentialBackend with 1 concurrent workers.\n",
      "[Parallel(n_jobs=1)]: Done  12 out of  12 | elapsed:    5.3s finished\n"
     ]
    },
    {
     "data": {
      "text/plain": [
       "GridSearchCV(cv=KFold(n_splits=3, random_state=42, shuffle=True),\n",
       "             error_score=nan,\n",
       "             estimator=SVC(C=1.0, break_ties=False, cache_size=200,\n",
       "                           class_weight=None, coef0=0.0,\n",
       "                           decision_function_shape='ovr', degree=3,\n",
       "                           gamma='scale', kernel='rbf', max_iter=-1,\n",
       "                           probability=False, random_state=None, shrinking=True,\n",
       "                           tol=0.001, verbose=False),\n",
       "             iid='deprecated', n_jobs=None, param_grid={'C': [1, 5, 10, 100]},\n",
       "             pre_dispatch='2*n_jobs', refit=True, return_train_score=True,\n",
       "             scoring='accuracy', verbose=1)"
      ]
     },
     "execution_count": 11,
     "metadata": {},
     "output_type": "execute_result"
    }
   ],
   "source": [
    "# Fitting the model to the data\n",
    "\n",
    "model_cv.fit(x_train_final, y_train)  "
   ]
  },
  {
   "cell_type": "code",
   "execution_count": 12,
   "metadata": {},
   "outputs": [
    {
     "data": {
      "text/html": [
       "<div>\n",
       "<style scoped>\n",
       "    .dataframe tbody tr th:only-of-type {\n",
       "        vertical-align: middle;\n",
       "    }\n",
       "\n",
       "    .dataframe tbody tr th {\n",
       "        vertical-align: top;\n",
       "    }\n",
       "\n",
       "    .dataframe thead th {\n",
       "        text-align: right;\n",
       "    }\n",
       "</style>\n",
       "<table border=\"1\" class=\"dataframe\">\n",
       "  <thead>\n",
       "    <tr style=\"text-align: right;\">\n",
       "      <th></th>\n",
       "      <th>mean_fit_time</th>\n",
       "      <th>std_fit_time</th>\n",
       "      <th>mean_score_time</th>\n",
       "      <th>std_score_time</th>\n",
       "      <th>param_C</th>\n",
       "      <th>params</th>\n",
       "      <th>split0_test_score</th>\n",
       "      <th>split1_test_score</th>\n",
       "      <th>split2_test_score</th>\n",
       "      <th>mean_test_score</th>\n",
       "      <th>std_test_score</th>\n",
       "      <th>rank_test_score</th>\n",
       "      <th>split0_train_score</th>\n",
       "      <th>split1_train_score</th>\n",
       "      <th>split2_train_score</th>\n",
       "      <th>mean_train_score</th>\n",
       "      <th>std_train_score</th>\n",
       "    </tr>\n",
       "  </thead>\n",
       "  <tbody>\n",
       "    <tr>\n",
       "      <th>0</th>\n",
       "      <td>0.418769</td>\n",
       "      <td>0.005880</td>\n",
       "      <td>0.149573</td>\n",
       "      <td>0.009554</td>\n",
       "      <td>1</td>\n",
       "      <td>{'C': 1}</td>\n",
       "      <td>0.317805</td>\n",
       "      <td>0.439056</td>\n",
       "      <td>0.544061</td>\n",
       "      <td>0.433641</td>\n",
       "      <td>0.092448</td>\n",
       "      <td>4</td>\n",
       "      <td>0.344718</td>\n",
       "      <td>0.449410</td>\n",
       "      <td>0.567645</td>\n",
       "      <td>0.453924</td>\n",
       "      <td>0.091066</td>\n",
       "    </tr>\n",
       "    <tr>\n",
       "      <th>1</th>\n",
       "      <td>0.195378</td>\n",
       "      <td>0.018805</td>\n",
       "      <td>0.122669</td>\n",
       "      <td>0.007091</td>\n",
       "      <td>5</td>\n",
       "      <td>{'C': 5}</td>\n",
       "      <td>0.880664</td>\n",
       "      <td>0.996171</td>\n",
       "      <td>0.998084</td>\n",
       "      <td>0.958306</td>\n",
       "      <td>0.054907</td>\n",
       "      <td>3</td>\n",
       "      <td>0.891797</td>\n",
       "      <td>0.998085</td>\n",
       "      <td>0.997447</td>\n",
       "      <td>0.962443</td>\n",
       "      <td>0.049955</td>\n",
       "    </tr>\n",
       "    <tr>\n",
       "      <th>2</th>\n",
       "      <td>0.102739</td>\n",
       "      <td>0.013350</td>\n",
       "      <td>0.078137</td>\n",
       "      <td>0.009259</td>\n",
       "      <td>10</td>\n",
       "      <td>{'C': 10}</td>\n",
       "      <td>0.996809</td>\n",
       "      <td>0.996171</td>\n",
       "      <td>0.998084</td>\n",
       "      <td>0.997022</td>\n",
       "      <td>0.000795</td>\n",
       "      <td>1</td>\n",
       "      <td>0.998723</td>\n",
       "      <td>0.998085</td>\n",
       "      <td>0.997447</td>\n",
       "      <td>0.998085</td>\n",
       "      <td>0.000521</td>\n",
       "    </tr>\n",
       "    <tr>\n",
       "      <th>3</th>\n",
       "      <td>0.016931</td>\n",
       "      <td>0.001629</td>\n",
       "      <td>0.009321</td>\n",
       "      <td>0.001230</td>\n",
       "      <td>100</td>\n",
       "      <td>{'C': 100}</td>\n",
       "      <td>0.996809</td>\n",
       "      <td>0.996171</td>\n",
       "      <td>0.998084</td>\n",
       "      <td>0.997022</td>\n",
       "      <td>0.000795</td>\n",
       "      <td>1</td>\n",
       "      <td>0.998723</td>\n",
       "      <td>0.998085</td>\n",
       "      <td>0.997447</td>\n",
       "      <td>0.998085</td>\n",
       "      <td>0.000521</td>\n",
       "    </tr>\n",
       "  </tbody>\n",
       "</table>\n",
       "</div>"
      ],
      "text/plain": [
       "   mean_fit_time  std_fit_time  mean_score_time  std_score_time param_C  \\\n",
       "0       0.418769      0.005880         0.149573        0.009554       1   \n",
       "1       0.195378      0.018805         0.122669        0.007091       5   \n",
       "2       0.102739      0.013350         0.078137        0.009259      10   \n",
       "3       0.016931      0.001629         0.009321        0.001230     100   \n",
       "\n",
       "       params  split0_test_score  split1_test_score  split2_test_score  \\\n",
       "0    {'C': 1}           0.317805           0.439056           0.544061   \n",
       "1    {'C': 5}           0.880664           0.996171           0.998084   \n",
       "2   {'C': 10}           0.996809           0.996171           0.998084   \n",
       "3  {'C': 100}           0.996809           0.996171           0.998084   \n",
       "\n",
       "   mean_test_score  std_test_score  rank_test_score  split0_train_score  \\\n",
       "0         0.433641        0.092448                4            0.344718   \n",
       "1         0.958306        0.054907                3            0.891797   \n",
       "2         0.997022        0.000795                1            0.998723   \n",
       "3         0.997022        0.000795                1            0.998723   \n",
       "\n",
       "   split1_train_score  split2_train_score  mean_train_score  std_train_score  \n",
       "0            0.449410            0.567645          0.453924         0.091066  \n",
       "1            0.998085            0.997447          0.962443         0.049955  \n",
       "2            0.998085            0.997447          0.998085         0.000521  \n",
       "3            0.998085            0.997447          0.998085         0.000521  "
      ]
     },
     "execution_count": 12,
     "metadata": {},
     "output_type": "execute_result"
    }
   ],
   "source": [
    "# visualizing the results\n",
    "\n",
    "cv_results = pd.DataFrame(model_cv.cv_results_)\n",
    "cv_results"
   ]
  },
  {
   "cell_type": "code",
   "execution_count": 13,
   "metadata": {},
   "outputs": [
    {
     "data": {
      "image/png": "[encoded data removed]",
      "text/plain": [
       "<Figure size 576x432 with 1 Axes>"
      ]
     },
     "metadata": {
      "needs_background": "light"
     },
     "output_type": "display_data"
    }
   ],
   "source": [
    "# plot of C versus train and test scores, to visualize the best C\n",
    "\n",
    "plt.figure(figsize=(8, 6))\n",
    "plt.plot(cv_results['param_C'], cv_results['mean_test_score'])\n",
    "plt.plot(cv_results['param_C'], cv_results['mean_train_score'])\n",
    "plt.xlabel('C')\n",
    "plt.ylabel('Accuracy')\n",
    "plt.legend(['test accuracy', 'train accuracy'], loc='upper left')\n",
    "plt.xscale('log')"
   ]
  },
  {
   "cell_type": "code",
   "execution_count": 14,
   "metadata": {},
   "outputs": [
    {
     "name": "stdout",
     "output_type": "stream",
     "text": [
      " The highest test accuracy is 0.9970215027209504 at C = 10\n"
     ]
    }
   ],
   "source": [
    "# Best C value and accuracy\n",
    "\n",
    "best_score = model_cv.best_score_\n",
    "best_C = model_cv.best_params_['C']\n",
    "print(\" The highest test accuracy is {0} at C = {1}\".format(best_score, best_C))"
   ]
  },
  {
   "cell_type": "code",
   "execution_count": 15,
   "metadata": {},
   "outputs": [],
   "source": [
    "# Making predictions on the training data using the obtained model\n",
    "\n",
    "test_predict = model_cv.predict(pd.DataFrame(x_train_pca))"
   ]
  },
  {
   "cell_type": "code",
   "execution_count": 16,
   "metadata": {},
   "outputs": [],
   "source": [
    "# Tabulating the predictions and comparing with the expected results\n",
    "\n",
    "Training_Predictions = pd.DataFrame()\n",
    "Training_Predictions['Expected']=train[\"120\"]\n",
    "Training_Predictions['Predicted']=test_predict\n",
    "Training_Predictions.index.name = \"Id\""
   ]
  },
  {
   "cell_type": "code",
   "execution_count": 17,
   "metadata": {},
   "outputs": [
    {
     "data": {
      "text/html": [
       "<div>\n",
       "<style scoped>\n",
       "    .dataframe tbody tr th:only-of-type {\n",
       "        vertical-align: middle;\n",
       "    }\n",
       "\n",
       "    .dataframe tbody tr th {\n",
       "        vertical-align: top;\n",
       "    }\n",
       "\n",
       "    .dataframe thead th {\n",
       "        text-align: right;\n",
       "    }\n",
       "</style>\n",
       "<table border=\"1\" class=\"dataframe\">\n",
       "  <thead>\n",
       "    <tr style=\"text-align: right;\">\n",
       "      <th></th>\n",
       "      <th>Expected</th>\n",
       "      <th>Predicted</th>\n",
       "    </tr>\n",
       "    <tr>\n",
       "      <th>Id</th>\n",
       "      <th></th>\n",
       "      <th></th>\n",
       "    </tr>\n",
       "  </thead>\n",
       "  <tbody>\n",
       "    <tr>\n",
       "      <th>0</th>\n",
       "      <td>1</td>\n",
       "      <td>1</td>\n",
       "    </tr>\n",
       "    <tr>\n",
       "      <th>1</th>\n",
       "      <td>1</td>\n",
       "      <td>1</td>\n",
       "    </tr>\n",
       "    <tr>\n",
       "      <th>2</th>\n",
       "      <td>1</td>\n",
       "      <td>1</td>\n",
       "    </tr>\n",
       "    <tr>\n",
       "      <th>3</th>\n",
       "      <td>1</td>\n",
       "      <td>1</td>\n",
       "    </tr>\n",
       "    <tr>\n",
       "      <th>4</th>\n",
       "      <td>4</td>\n",
       "      <td>4</td>\n",
       "    </tr>\n",
       "    <tr>\n",
       "      <th>...</th>\n",
       "      <td>...</td>\n",
       "      <td>...</td>\n",
       "    </tr>\n",
       "    <tr>\n",
       "      <th>4695</th>\n",
       "      <td>9</td>\n",
       "      <td>9</td>\n",
       "    </tr>\n",
       "    <tr>\n",
       "      <th>4696</th>\n",
       "      <td>9</td>\n",
       "      <td>9</td>\n",
       "    </tr>\n",
       "    <tr>\n",
       "      <th>4697</th>\n",
       "      <td>9</td>\n",
       "      <td>9</td>\n",
       "    </tr>\n",
       "    <tr>\n",
       "      <th>4698</th>\n",
       "      <td>5</td>\n",
       "      <td>5</td>\n",
       "    </tr>\n",
       "    <tr>\n",
       "      <th>4699</th>\n",
       "      <td>3</td>\n",
       "      <td>3</td>\n",
       "    </tr>\n",
       "  </tbody>\n",
       "</table>\n",
       "<p>4700 rows × 2 columns</p>\n",
       "</div>"
      ],
      "text/plain": [
       "      Expected  Predicted\n",
       "Id                       \n",
       "0            1          1\n",
       "1            1          1\n",
       "2            1          1\n",
       "3            1          1\n",
       "4            4          4\n",
       "...        ...        ...\n",
       "4695         9          9\n",
       "4696         9          9\n",
       "4697         9          9\n",
       "4698         5          5\n",
       "4699         3          3\n",
       "\n",
       "[4700 rows x 2 columns]"
      ]
     },
     "execution_count": 17,
     "metadata": {},
     "output_type": "execute_result"
    }
   ],
   "source": [
    "Training_Predictions"
   ]
  },
  {
   "cell_type": "code",
   "execution_count": 18,
   "metadata": {},
   "outputs": [
    {
     "data": {
      "text/html": [
       "<div>\n",
       "<style scoped>\n",
       "    .dataframe tbody tr th:only-of-type {\n",
       "        vertical-align: middle;\n",
       "    }\n",
       "\n",
       "    .dataframe tbody tr th {\n",
       "        vertical-align: top;\n",
       "    }\n",
       "\n",
       "    .dataframe thead th {\n",
       "        text-align: right;\n",
       "    }\n",
       "</style>\n",
       "<table border=\"1\" class=\"dataframe\">\n",
       "  <thead>\n",
       "    <tr style=\"text-align: right;\">\n",
       "      <th></th>\n",
       "      <th>Expected</th>\n",
       "      <th>Predicted</th>\n",
       "    </tr>\n",
       "    <tr>\n",
       "      <th>Id</th>\n",
       "      <th></th>\n",
       "      <th></th>\n",
       "    </tr>\n",
       "  </thead>\n",
       "  <tbody>\n",
       "    <tr>\n",
       "      <th>202</th>\n",
       "      <td>1</td>\n",
       "      <td>9</td>\n",
       "    </tr>\n",
       "    <tr>\n",
       "      <th>203</th>\n",
       "      <td>9</td>\n",
       "      <td>3</td>\n",
       "    </tr>\n",
       "    <tr>\n",
       "      <th>204</th>\n",
       "      <td>3</td>\n",
       "      <td>1</td>\n",
       "    </tr>\n",
       "    <tr>\n",
       "      <th>801</th>\n",
       "      <td>4</td>\n",
       "      <td>5</td>\n",
       "    </tr>\n",
       "    <tr>\n",
       "      <th>2942</th>\n",
       "      <td>5</td>\n",
       "      <td>9</td>\n",
       "    </tr>\n",
       "    <tr>\n",
       "      <th>2943</th>\n",
       "      <td>9</td>\n",
       "      <td>5</td>\n",
       "    </tr>\n",
       "    <tr>\n",
       "      <th>2970</th>\n",
       "      <td>6</td>\n",
       "      <td>9</td>\n",
       "    </tr>\n",
       "    <tr>\n",
       "      <th>4088</th>\n",
       "      <td>8</td>\n",
       "      <td>4</td>\n",
       "    </tr>\n",
       "    <tr>\n",
       "      <th>4279</th>\n",
       "      <td>6</td>\n",
       "      <td>1</td>\n",
       "    </tr>\n",
       "  </tbody>\n",
       "</table>\n",
       "</div>"
      ],
      "text/plain": [
       "      Expected  Predicted\n",
       "Id                       \n",
       "202          1          9\n",
       "203          9          3\n",
       "204          3          1\n",
       "801          4          5\n",
       "2942         5          9\n",
       "2943         9          5\n",
       "2970         6          9\n",
       "4088         8          4\n",
       "4279         6          1"
      ]
     },
     "execution_count": 18,
     "metadata": {},
     "output_type": "execute_result"
    }
   ],
   "source": [
    "# visualizing the wrongly predicted numbers\n",
    "\n",
    "Training_Predictions.loc[Training_Predictions[\"Expected\"]!=Training_Predictions[\"Predicted\"]]"
   ]
  },
  {
   "cell_type": "code",
   "execution_count": 19,
   "metadata": {},
   "outputs": [
    {
     "data": {
      "image/png": "[encoded data removed]",
      "text/plain": [
       "<Figure size 432x288 with 9 Axes>"
      ]
     },
     "metadata": {
      "needs_background": "light"
     },
     "output_type": "display_data"
    }
   ],
   "source": [
    "# visualizing the wrongly predicted numbers \n",
    "\n",
    "k=0\n",
    "for i in [202,203,204,801,2942,2943,2970,4088,4279]:\n",
    "    one = train.iloc[i, :-1]\n",
    "    one = one.values.reshape(10,12)\n",
    "    plt.subplot(3,3,k+1)\n",
    "    plt.title(\"Expected: \"+str(Training_Predictions[\"Expected\"][i]))\n",
    "    plt.imshow(one)\n",
    "    plt.title(\"Predicted: \"+str(Training_Predictions[\"Predicted\"][i]))\n",
    "    k=k+1"
   ]
  },
  {
   "cell_type": "markdown",
   "metadata": {},
   "source": [
    "<p style=\"color:blue\">From this visualization, it can be clearly seen that the prediction accuracy is actually higher than the indicated 0.9970215027209504 and that there are a few naming mistakes in the electoral-tagged folder images given to us</p>"
   ]
  }
 ],
 "metadata": {
  "kernelspec": {
   "display_name": "Python 3",
   "language": "python",
   "name": "python3"
  },
  "language_info": {
   "codemirror_mode": {
    "name": "ipython",
    "version": 3
   },
   "file_extension": ".py",
   "mimetype": "text/x-python",
   "name": "python",
   "nbconvert_exporter": "python",
   "pygments_lexer": "ipython3",
   "version": "3.6.5"
  }
 },
 "nbformat": 4,
 "nbformat_minor": 2
}
